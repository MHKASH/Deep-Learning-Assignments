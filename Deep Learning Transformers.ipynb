{
  "nbformat": 4,
  "nbformat_minor": 0,
  "metadata": {
    "colab": {
      "provenance": [],
      "gpuType": "T4"
    },
    "kernelspec": {
      "name": "python3",
      "display_name": "Python 3"
    },
    "language_info": {
      "name": "python"
    },
    "accelerator": "GPU"
  },
  "cells": [
    {
      "cell_type": "code",
      "source": [
        "import torch\n",
        "from transformers import BertTokenizer, BertModel\n",
        "import warnings\n",
        "\n",
        "warnings.filterwarnings(\"ignore\")"
      ],
      "metadata": {
        "id": "LHZd2QGv837z"
      },
      "execution_count": 1,
      "outputs": []
    },
    {
      "cell_type": "code",
      "source": [
        "tokenizer = BertTokenizer.from_pretrained(\"bert-base-uncased\")\n",
        "model = BertModel.from_pretrained(\"bert-base-uncased\", attn_implementation=\"eager\", output_attentions=True)"
      ],
      "metadata": {
        "id": "Y9HqRDiPAnsZ"
      },
      "execution_count": 2,
      "outputs": []
    },
    {
      "cell_type": "code",
      "source": [
        "sentence = \"What are the symptoms of diabetes?\""
      ],
      "metadata": {
        "id": "hxWNvIXcAydD"
      },
      "execution_count": 3,
      "outputs": []
    },
    {
      "cell_type": "code",
      "source": [
        "inputs = tokenizer(sentence, return_tensors=\"pt\")"
      ],
      "metadata": {
        "id": "AI1uZWrJAuSP"
      },
      "execution_count": 4,
      "outputs": []
    },
    {
      "cell_type": "code",
      "source": [
        "with torch.no_grad():\n",
        "    outputs = model(**inputs)\n",
        "\n",
        "embeddings = outputs.last_hidden_state\n",
        "attentions = outputs.attentions"
      ],
      "metadata": {
        "id": "d8stPb3AA2PA"
      },
      "execution_count": 5,
      "outputs": []
    },
    {
      "cell_type": "code",
      "source": [
        "print(\"Embeddings shape:\", embeddings.shape)\n",
        "print(\"\\nNumber of layers containing attention weights:\", len(attentions))\n",
        "print(\"Attention weights in the first layer:\", attentions[0].shape)\n",
        "print(\"\\nAttention weights From the first layer - the first head:\")\n",
        "print(attentions[0][0, 0])"
      ],
      "metadata": {
        "colab": {
          "base_uri": "https://localhost:8080/"
        },
        "id": "06gdUnq2A7OB",
        "outputId": "2523b09a-31b6-4838-899c-765ec3525eae"
      },
      "execution_count": 6,
      "outputs": [
        {
          "output_type": "stream",
          "name": "stdout",
          "text": [
            "Embeddings shape: torch.Size([1, 9, 768])\n",
            "\n",
            "Number of layers containing attention weights: 12\n",
            "Attention weights in the first layer: torch.Size([1, 12, 9, 9])\n",
            "\n",
            "Attention weights From the first layer - the first head:\n",
            "tensor([[0.0703, 0.0626, 0.0576, 0.1530, 0.0469, 0.1002, 0.0671, 0.0971, 0.3451],\n",
            "        [0.1299, 0.1026, 0.0900, 0.0791, 0.0837, 0.0760, 0.0858, 0.1506, 0.2024],\n",
            "        [0.1393, 0.0903, 0.1344, 0.0599, 0.1634, 0.1129, 0.0504, 0.1713, 0.0781],\n",
            "        [0.0755, 0.0988, 0.1373, 0.1133, 0.1443, 0.0978, 0.0660, 0.2030, 0.0641],\n",
            "        [0.0621, 0.0693, 0.1322, 0.0236, 0.1607, 0.0339, 0.1899, 0.2461, 0.0823],\n",
            "        [0.1299, 0.1160, 0.0785, 0.0668, 0.1307, 0.1224, 0.0831, 0.1509, 0.1218],\n",
            "        [0.1145, 0.0830, 0.0942, 0.0156, 0.2272, 0.0312, 0.1865, 0.1688, 0.0791],\n",
            "        [0.0950, 0.0870, 0.1386, 0.0539, 0.1093, 0.1478, 0.0934, 0.1272, 0.1477],\n",
            "        [0.0942, 0.1061, 0.0873, 0.1179, 0.0876, 0.0876, 0.0775, 0.1812, 0.1606]])\n"
          ]
        }
      ]
    }
  ]
}